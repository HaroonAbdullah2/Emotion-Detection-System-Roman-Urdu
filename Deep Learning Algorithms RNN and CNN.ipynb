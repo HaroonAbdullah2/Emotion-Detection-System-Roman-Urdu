{
  "cells": [
    {
      "cell_type": "markdown",
      "metadata": {
        "id": "view-in-github",
        "colab_type": "text"
      },
      "source": [
        "<a href=\"https://colab.research.google.com/github/HaroonAbdullah2/Emotion-Detection-System-Roman-Urdu/blob/main/Deep%20Learning%20Algorithms%20RNN%20and%20CNN.ipynb\" target=\"_parent\"><img src=\"https://colab.research.google.com/assets/colab-badge.svg\" alt=\"Open In Colab\"/></a>"
      ]
    },
    {
      "cell_type": "code",
      "execution_count": null,
      "metadata": {
        "colab": {
          "base_uri": "https://localhost:8080/"
        },
        "id": "uwHLDIPeptoJ",
        "outputId": "bbc669f1-af56-4cea-9986-08627108ffae"
      },
      "outputs": [
        {
          "name": "stdout",
          "output_type": "stream",
          "text": [
            "\u001b[31mERROR: Could not find a version that satisfies the requirement tensorflow==2.7.0. (from versions: 2.8.0rc0, 2.8.0rc1, 2.8.0, 2.8.1, 2.8.2, 2.8.3, 2.8.4, 2.9.0rc0, 2.9.0rc1, 2.9.0rc2, 2.9.0, 2.9.1, 2.9.2, 2.9.3, 2.10.0rc0, 2.10.0rc1, 2.10.0rc2, 2.10.0rc3, 2.10.0, 2.10.1, 2.11.0rc0, 2.11.0rc1, 2.11.0rc2, 2.11.0, 2.11.1, 2.12.0rc0, 2.12.0rc1, 2.12.0, 2.13.0rc0, 2.13.0rc1, 2.13.0rc2)\u001b[0m\u001b[31m\n",
            "\u001b[0m\u001b[31mERROR: No matching distribution found for tensorflow==2.7.0.\u001b[0m\u001b[31m\n",
            "\u001b[0m"
          ]
        }
      ],
      "source": [
        "pip install tensorflow==2.7.0."
      ]
    },
    {
      "cell_type": "code",
      "execution_count": null,
      "metadata": {
        "colab": {
          "base_uri": "https://localhost:8080/"
        },
        "id": "lh0VFhmsztR2",
        "outputId": "710c7c21-f500-4fce-96cb-73059a0bf47c"
      },
      "outputs": [
        {
          "output_type": "stream",
          "name": "stdout",
          "text": [
            "Found existing installation: tensorflow 2.12.0\n",
            "Uninstalling tensorflow-2.12.0:\n",
            "  Would remove:\n",
            "    /usr/local/bin/estimator_ckpt_converter\n",
            "    /usr/local/bin/import_pb_to_tensorboard\n",
            "    /usr/local/bin/saved_model_cli\n",
            "    /usr/local/bin/tensorboard\n",
            "    /usr/local/bin/tf_upgrade_v2\n",
            "    /usr/local/bin/tflite_convert\n",
            "    /usr/local/bin/toco\n",
            "    /usr/local/bin/toco_from_protos\n",
            "    /usr/local/lib/python3.10/dist-packages/tensorflow-2.12.0.dist-info/*\n",
            "    /usr/local/lib/python3.10/dist-packages/tensorflow/*\n",
            "Proceed (Y/n)? Y\n",
            "Y\n",
            "  Successfully uninstalled tensorflow-2.12.0\n"
          ]
        }
      ],
      "source": [
        "!pip uninstall tensorflow"
      ]
    },
    {
      "cell_type": "code",
      "execution_count": null,
      "metadata": {
        "colab": {
          "base_uri": "https://localhost:8080/"
        },
        "id": "xmJjbomg04Us",
        "outputId": "a653d725-3f3c-47a6-870e-0825c935ac70"
      },
      "outputs": [
        {
          "output_type": "stream",
          "name": "stdout",
          "text": [
            "Collecting tensorflow==2.8.0.\n",
            "  Downloading tensorflow-2.8.0-cp310-cp310-manylinux2010_x86_64.whl (497.6 MB)\n",
            "\u001b[2K     \u001b[90m━━━━━━━━━━━━━━━━━━━━━━━━━━━━━━━━━━━━━━━\u001b[0m \u001b[32m497.6/497.6 MB\u001b[0m \u001b[31m2.5 MB/s\u001b[0m eta \u001b[36m0:00:00\u001b[0m\n",
            "\u001b[?25hRequirement already satisfied: absl-py>=0.4.0 in /usr/local/lib/python3.10/dist-packages (from tensorflow==2.8.0.) (1.4.0)\n",
            "Requirement already satisfied: astunparse>=1.6.0 in /usr/local/lib/python3.10/dist-packages (from tensorflow==2.8.0.) (1.6.3)\n",
            "Requirement already satisfied: flatbuffers>=1.12 in /usr/local/lib/python3.10/dist-packages (from tensorflow==2.8.0.) (23.5.26)\n",
            "Requirement already satisfied: gast>=0.2.1 in /usr/local/lib/python3.10/dist-packages (from tensorflow==2.8.0.) (0.4.0)\n",
            "Requirement already satisfied: google-pasta>=0.1.1 in /usr/local/lib/python3.10/dist-packages (from tensorflow==2.8.0.) (0.2.0)\n",
            "Requirement already satisfied: h5py>=2.9.0 in /usr/local/lib/python3.10/dist-packages (from tensorflow==2.8.0.) (3.8.0)\n",
            "Collecting keras-preprocessing>=1.1.1 (from tensorflow==2.8.0.)\n",
            "  Downloading Keras_Preprocessing-1.1.2-py2.py3-none-any.whl (42 kB)\n",
            "\u001b[2K     \u001b[90m━━━━━━━━━━━━━━━━━━━━━━━━━━━━━━━━━━━━━━━━\u001b[0m \u001b[32m42.6/42.6 kB\u001b[0m \u001b[31m4.9 MB/s\u001b[0m eta \u001b[36m0:00:00\u001b[0m\n",
            "\u001b[?25hRequirement already satisfied: libclang>=9.0.1 in /usr/local/lib/python3.10/dist-packages (from tensorflow==2.8.0.) (16.0.0)\n",
            "Requirement already satisfied: numpy>=1.20 in /usr/local/lib/python3.10/dist-packages (from tensorflow==2.8.0.) (1.22.4)\n",
            "Requirement already satisfied: opt-einsum>=2.3.2 in /usr/local/lib/python3.10/dist-packages (from tensorflow==2.8.0.) (3.3.0)\n",
            "Requirement already satisfied: protobuf>=3.9.2 in /usr/local/lib/python3.10/dist-packages (from tensorflow==2.8.0.) (3.20.3)\n",
            "Requirement already satisfied: setuptools in /usr/local/lib/python3.10/dist-packages (from tensorflow==2.8.0.) (67.7.2)\n",
            "Requirement already satisfied: six>=1.12.0 in /usr/local/lib/python3.10/dist-packages (from tensorflow==2.8.0.) (1.16.0)\n",
            "Requirement already satisfied: termcolor>=1.1.0 in /usr/local/lib/python3.10/dist-packages (from tensorflow==2.8.0.) (2.3.0)\n",
            "Requirement already satisfied: typing-extensions>=3.6.6 in /usr/local/lib/python3.10/dist-packages (from tensorflow==2.8.0.) (4.7.1)\n",
            "Requirement already satisfied: wrapt>=1.11.0 in /usr/local/lib/python3.10/dist-packages (from tensorflow==2.8.0.) (1.14.1)\n",
            "Collecting tensorboard<2.9,>=2.8 (from tensorflow==2.8.0.)\n",
            "  Downloading tensorboard-2.8.0-py3-none-any.whl (5.8 MB)\n",
            "\u001b[2K     \u001b[90m━━━━━━━━━━━━━━━━━━━━━━━━━━━━━━━━━━━━━━━━\u001b[0m \u001b[32m5.8/5.8 MB\u001b[0m \u001b[31m91.3 MB/s\u001b[0m eta \u001b[36m0:00:00\u001b[0m\n",
            "\u001b[?25hCollecting tf-estimator-nightly==2.8.0.dev2021122109 (from tensorflow==2.8.0.)\n",
            "  Downloading tf_estimator_nightly-2.8.0.dev2021122109-py2.py3-none-any.whl (462 kB)\n",
            "\u001b[2K     \u001b[90m━━━━━━━━━━━━━━━━━━━━━━━━━━━━━━━━━━━━━━\u001b[0m \u001b[32m462.5/462.5 kB\u001b[0m \u001b[31m43.4 MB/s\u001b[0m eta \u001b[36m0:00:00\u001b[0m\n",
            "\u001b[?25hCollecting keras<2.9,>=2.8.0rc0 (from tensorflow==2.8.0.)\n",
            "  Downloading keras-2.8.0-py2.py3-none-any.whl (1.4 MB)\n",
            "\u001b[2K     \u001b[90m━━━━━━━━━━━━━━━━━━━━━━━━━━━━━━━━━━━━━━━━\u001b[0m \u001b[32m1.4/1.4 MB\u001b[0m \u001b[31m76.0 MB/s\u001b[0m eta \u001b[36m0:00:00\u001b[0m\n",
            "\u001b[?25hRequirement already satisfied: tensorflow-io-gcs-filesystem>=0.23.1 in /usr/local/lib/python3.10/dist-packages (from tensorflow==2.8.0.) (0.32.0)\n",
            "Requirement already satisfied: grpcio<2.0,>=1.24.3 in /usr/local/lib/python3.10/dist-packages (from tensorflow==2.8.0.) (1.56.0)\n",
            "Requirement already satisfied: wheel<1.0,>=0.23.0 in /usr/local/lib/python3.10/dist-packages (from astunparse>=1.6.0->tensorflow==2.8.0.) (0.40.0)\n",
            "Requirement already satisfied: google-auth<3,>=1.6.3 in /usr/local/lib/python3.10/dist-packages (from tensorboard<2.9,>=2.8->tensorflow==2.8.0.) (2.17.3)\n",
            "Collecting google-auth-oauthlib<0.5,>=0.4.1 (from tensorboard<2.9,>=2.8->tensorflow==2.8.0.)\n",
            "  Downloading google_auth_oauthlib-0.4.6-py2.py3-none-any.whl (18 kB)\n",
            "Requirement already satisfied: markdown>=2.6.8 in /usr/local/lib/python3.10/dist-packages (from tensorboard<2.9,>=2.8->tensorflow==2.8.0.) (3.4.3)\n",
            "Requirement already satisfied: requests<3,>=2.21.0 in /usr/local/lib/python3.10/dist-packages (from tensorboard<2.9,>=2.8->tensorflow==2.8.0.) (2.27.1)\n",
            "Collecting tensorboard-data-server<0.7.0,>=0.6.0 (from tensorboard<2.9,>=2.8->tensorflow==2.8.0.)\n",
            "  Downloading tensorboard_data_server-0.6.1-py3-none-manylinux2010_x86_64.whl (4.9 MB)\n",
            "\u001b[2K     \u001b[90m━━━━━━━━━━━━━━━━━━━━━━━━━━━━━━━━━━━━━━━━\u001b[0m \u001b[32m4.9/4.9 MB\u001b[0m \u001b[31m91.0 MB/s\u001b[0m eta \u001b[36m0:00:00\u001b[0m\n",
            "\u001b[?25hCollecting tensorboard-plugin-wit>=1.6.0 (from tensorboard<2.9,>=2.8->tensorflow==2.8.0.)\n",
            "  Downloading tensorboard_plugin_wit-1.8.1-py3-none-any.whl (781 kB)\n",
            "\u001b[2K     \u001b[90m━━━━━━━━━━━━━━━━━━━━━━━━━━━━━━━━━━━━━━\u001b[0m \u001b[32m781.3/781.3 kB\u001b[0m \u001b[31m49.3 MB/s\u001b[0m eta \u001b[36m0:00:00\u001b[0m\n",
            "\u001b[?25hRequirement already satisfied: werkzeug>=0.11.15 in /usr/local/lib/python3.10/dist-packages (from tensorboard<2.9,>=2.8->tensorflow==2.8.0.) (2.3.6)\n",
            "Requirement already satisfied: cachetools<6.0,>=2.0.0 in /usr/local/lib/python3.10/dist-packages (from google-auth<3,>=1.6.3->tensorboard<2.9,>=2.8->tensorflow==2.8.0.) (5.3.1)\n",
            "Requirement already satisfied: pyasn1-modules>=0.2.1 in /usr/local/lib/python3.10/dist-packages (from google-auth<3,>=1.6.3->tensorboard<2.9,>=2.8->tensorflow==2.8.0.) (0.3.0)\n",
            "Requirement already satisfied: rsa<5,>=3.1.4 in /usr/local/lib/python3.10/dist-packages (from google-auth<3,>=1.6.3->tensorboard<2.9,>=2.8->tensorflow==2.8.0.) (4.9)\n",
            "Requirement already satisfied: requests-oauthlib>=0.7.0 in /usr/local/lib/python3.10/dist-packages (from google-auth-oauthlib<0.5,>=0.4.1->tensorboard<2.9,>=2.8->tensorflow==2.8.0.) (1.3.1)\n",
            "Requirement already satisfied: urllib3<1.27,>=1.21.1 in /usr/local/lib/python3.10/dist-packages (from requests<3,>=2.21.0->tensorboard<2.9,>=2.8->tensorflow==2.8.0.) (1.26.16)\n",
            "Requirement already satisfied: certifi>=2017.4.17 in /usr/local/lib/python3.10/dist-packages (from requests<3,>=2.21.0->tensorboard<2.9,>=2.8->tensorflow==2.8.0.) (2023.5.7)\n",
            "Requirement already satisfied: charset-normalizer~=2.0.0 in /usr/local/lib/python3.10/dist-packages (from requests<3,>=2.21.0->tensorboard<2.9,>=2.8->tensorflow==2.8.0.) (2.0.12)\n",
            "Requirement already satisfied: idna<4,>=2.5 in /usr/local/lib/python3.10/dist-packages (from requests<3,>=2.21.0->tensorboard<2.9,>=2.8->tensorflow==2.8.0.) (3.4)\n",
            "Requirement already satisfied: MarkupSafe>=2.1.1 in /usr/local/lib/python3.10/dist-packages (from werkzeug>=0.11.15->tensorboard<2.9,>=2.8->tensorflow==2.8.0.) (2.1.3)\n",
            "Requirement already satisfied: pyasn1<0.6.0,>=0.4.6 in /usr/local/lib/python3.10/dist-packages (from pyasn1-modules>=0.2.1->google-auth<3,>=1.6.3->tensorboard<2.9,>=2.8->tensorflow==2.8.0.) (0.5.0)\n",
            "Requirement already satisfied: oauthlib>=3.0.0 in /usr/local/lib/python3.10/dist-packages (from requests-oauthlib>=0.7.0->google-auth-oauthlib<0.5,>=0.4.1->tensorboard<2.9,>=2.8->tensorflow==2.8.0.) (3.2.2)\n",
            "Installing collected packages: tf-estimator-nightly, tensorboard-plugin-wit, keras, tensorboard-data-server, keras-preprocessing, google-auth-oauthlib, tensorboard, tensorflow\n",
            "  Attempting uninstall: keras\n",
            "    Found existing installation: keras 2.12.0\n",
            "    Uninstalling keras-2.12.0:\n",
            "      Successfully uninstalled keras-2.12.0\n",
            "  Attempting uninstall: tensorboard-data-server\n",
            "    Found existing installation: tensorboard-data-server 0.7.1\n",
            "    Uninstalling tensorboard-data-server-0.7.1:\n",
            "      Successfully uninstalled tensorboard-data-server-0.7.1\n",
            "  Attempting uninstall: google-auth-oauthlib\n",
            "    Found existing installation: google-auth-oauthlib 1.0.0\n",
            "    Uninstalling google-auth-oauthlib-1.0.0:\n",
            "      Successfully uninstalled google-auth-oauthlib-1.0.0\n",
            "  Attempting uninstall: tensorboard\n",
            "    Found existing installation: tensorboard 2.12.3\n",
            "    Uninstalling tensorboard-2.12.3:\n",
            "      Successfully uninstalled tensorboard-2.12.3\n",
            "  Attempting uninstall: tensorflow\n",
            "    Found existing installation: tensorflow 2.12.0\n",
            "    Uninstalling tensorflow-2.12.0:\n",
            "      Successfully uninstalled tensorflow-2.12.0\n",
            "Successfully installed google-auth-oauthlib-0.4.6 keras-2.8.0 keras-preprocessing-1.1.2 tensorboard-2.8.0 tensorboard-data-server-0.6.1 tensorboard-plugin-wit-1.8.1 tensorflow-2.8.0 tf-estimator-nightly-2.8.0.dev2021122109\n"
          ]
        }
      ],
      "source": [
        "pip install tensorflow==2.8.0."
      ]
    },
    {
      "cell_type": "markdown",
      "metadata": {
        "id": "pywCBxf7b9p4"
      },
      "source": [
        "## RNN"
      ]
    },
    {
      "cell_type": "code",
      "execution_count": null,
      "metadata": {
        "id": "vrNjjjykcD9p"
      },
      "outputs": [],
      "source": [
        "import pandas as pd\n",
        "from sklearn.model_selection import train_test_split\n",
        "from sklearn.feature_extraction.text import TfidfVectorizer\n",
        "from sklearn.linear_model import LogisticRegression\n",
        "from sklearn.metrics import accuracy_score, classification_report\n",
        "import matplotlib.pyplot as plt\n",
        "import seaborn as sns\n",
        "from sklearn.model_selection import train_test_split\n",
        "from sklearn.preprocessing import LabelEncoder\n",
        "from keras.models import Sequential\n",
        "from keras.layers import Embedding, LSTM, Dense\n",
        "from keras.preprocessing.text import Tokenizer\n",
        "from keras.preprocessing.sequence import pad_sequences\n",
        "\n"
      ]
    },
    {
      "cell_type": "code",
      "source": [
        "import numpy as np"
      ],
      "metadata": {
        "id": "31NQQN5WMklc"
      },
      "execution_count": null,
      "outputs": []
    },
    {
      "cell_type": "code",
      "execution_count": null,
      "metadata": {
        "id": "uhTkub_yqO9-"
      },
      "outputs": [],
      "source": [
        "df = pd.read_excel('/content/Updated_preprocessed_Dataset_11th_July_Tuesday.xlsx')"
      ]
    },
    {
      "cell_type": "code",
      "source": [
        "df[\"Emotion\"].unique()"
      ],
      "metadata": {
        "colab": {
          "base_uri": "https://localhost:8080/"
        },
        "id": "iUAkPtf3M63Y",
        "outputId": "7d471a45-5ac4-4779-cbce-5fc94e592c99"
      },
      "execution_count": null,
      "outputs": [
        {
          "output_type": "execute_result",
          "data": {
            "text/plain": [
              "array(['happy', 'sad', 'anger', 'surprise', 'disgust', 'neutral', 'fear'],\n",
              "      dtype=object)"
            ]
          },
          "metadata": {},
          "execution_count": 29
        }
      ]
    },
    {
      "cell_type": "code",
      "source": [
        "df[\"Emotion\"] = df[\"Emotion\"].replace({\"Fear\": \"fear\"})"
      ],
      "metadata": {
        "id": "n_WWtl-DM-XH"
      },
      "execution_count": null,
      "outputs": []
    },
    {
      "cell_type": "code",
      "source": [
        "df[\"Emotion\"].unique()"
      ],
      "metadata": {
        "colab": {
          "base_uri": "https://localhost:8080/"
        },
        "id": "cs16BtzGwl1Z",
        "outputId": "57a031bb-d350-4eb2-e1cd-1821994aef99"
      },
      "execution_count": null,
      "outputs": [
        {
          "output_type": "execute_result",
          "data": {
            "text/plain": [
              "array(['happy', 'sad', 'anger', 'surprise', 'disgust', 'neutral', 'fear'],\n",
              "      dtype=object)"
            ]
          },
          "metadata": {},
          "execution_count": 7
        }
      ]
    },
    {
      "cell_type": "code",
      "source": [
        "df[\"Intensity\"].unique()"
      ],
      "metadata": {
        "colab": {
          "base_uri": "https://localhost:8080/"
        },
        "id": "7v-5M_WCNCU3",
        "outputId": "cf686ebf-512b-4095-ea93-1c0ee1e161a4"
      },
      "execution_count": null,
      "outputs": [
        {
          "output_type": "execute_result",
          "data": {
            "text/plain": [
              "array(['medium', 'low', 'high', 'negation'], dtype=object)"
            ]
          },
          "metadata": {},
          "execution_count": 30
        }
      ]
    },
    {
      "cell_type": "code",
      "source": [
        "emotions = ['happy', 'sad', 'anger', 'fear', 'disgust', 'surprise', 'neutral']\n",
        "intensities = ['high', 'medium', 'low', 'negation']"
      ],
      "metadata": {
        "id": "DBM4C1sB59Jf"
      },
      "execution_count": null,
      "outputs": []
    },
    {
      "cell_type": "code",
      "source": [
        "X = df['Sentence'].values\n",
        "y_emotion = df['Emotion'].values\n",
        "y_intensity = df['Intensity'].values\n"
      ],
      "metadata": {
        "id": "x0-1fdPS6DbG"
      },
      "execution_count": null,
      "outputs": []
    },
    {
      "cell_type": "code",
      "source": [
        "max_words = 10000\n",
        "max_sequence_length = 100"
      ],
      "metadata": {
        "id": "Abw9odB96Gs3"
      },
      "execution_count": null,
      "outputs": []
    },
    {
      "cell_type": "code",
      "source": [
        "tokenizer = Tokenizer(num_words=max_words)\n",
        "tokenizer.fit_on_texts(X)"
      ],
      "metadata": {
        "id": "u1IKDdSC6KkP"
      },
      "execution_count": null,
      "outputs": []
    },
    {
      "cell_type": "code",
      "source": [
        "X = tokenizer.texts_to_sequences(X)\n",
        "X = pad_sequences(X, maxlen=max_sequence_length)"
      ],
      "metadata": {
        "id": "dHA9B0Nh6M-P"
      },
      "execution_count": null,
      "outputs": []
    },
    {
      "cell_type": "code",
      "source": [
        "y_emotion = pd.get_dummies(y_emotion, columns=emotions)\n",
        "y_intensity = pd.get_dummies(y_intensity, columns=intensities)\n"
      ],
      "metadata": {
        "id": "sHNYYTKV6QGY"
      },
      "execution_count": null,
      "outputs": []
    },
    {
      "cell_type": "code",
      "source": [
        "X_train, X_test, y_emotion_train, y_emotion_test, y_intensity_train, y_intensity_test = train_test_split(\n",
        "    X, y_emotion, y_intensity, test_size=0.2, random_state=42)"
      ],
      "metadata": {
        "id": "LATKepxO6TCx"
      },
      "execution_count": null,
      "outputs": []
    },
    {
      "cell_type": "code",
      "source": [
        "model = Sequential()\n",
        "model.add(Embedding(max_words, 100, input_length=max_sequence_length))\n",
        "model.add(LSTM(128, dropout=0.2, recurrent_dropout=0.2))\n",
        "model.add(Dense(len(emotions), activation='softmax'))\n",
        "model.compile(loss='categorical_crossentropy', optimizer='adam', metrics=['accuracy'])"
      ],
      "metadata": {
        "id": "Tz_cgCZC6V0U"
      },
      "execution_count": null,
      "outputs": []
    },
    {
      "cell_type": "code",
      "source": [
        "model.fit(X_train, y_emotion_train, validation_data=(X_test, y_emotion_test), epochs=7, batch_size=64)"
      ],
      "metadata": {
        "colab": {
          "base_uri": "https://localhost:8080/"
        },
        "id": "-aKSBLjv6Y1i",
        "outputId": "64a8b27e-8fe0-4abb-afa5-3fd35be88c94"
      },
      "execution_count": null,
      "outputs": [
        {
          "output_type": "stream",
          "name": "stdout",
          "text": [
            "Epoch 1/7\n",
            "123/123 [==============================] - 64s 493ms/step - loss: 1.7061 - accuracy: 0.3332 - val_loss: 1.3927 - val_accuracy: 0.4982\n",
            "Epoch 2/7\n",
            "123/123 [==============================] - 58s 470ms/step - loss: 1.1025 - accuracy: 0.5916 - val_loss: 1.0765 - val_accuracy: 0.6010\n",
            "Epoch 3/7\n",
            "123/123 [==============================] - 57s 461ms/step - loss: 0.7372 - accuracy: 0.7438 - val_loss: 1.0146 - val_accuracy: 0.6326\n",
            "Epoch 4/7\n",
            "123/123 [==============================] - 60s 486ms/step - loss: 0.4832 - accuracy: 0.8387 - val_loss: 1.0907 - val_accuracy: 0.6346\n",
            "Epoch 5/7\n",
            "123/123 [==============================] - 59s 475ms/step - loss: 0.3335 - accuracy: 0.8952 - val_loss: 1.1807 - val_accuracy: 0.6285\n",
            "Epoch 6/7\n",
            "123/123 [==============================] - 58s 476ms/step - loss: 0.2418 - accuracy: 0.9216 - val_loss: 1.3119 - val_accuracy: 0.6275\n",
            "Epoch 7/7\n",
            "123/123 [==============================] - 55s 446ms/step - loss: 0.1759 - accuracy: 0.9418 - val_loss: 1.4132 - val_accuracy: 0.6331\n"
          ]
        },
        {
          "output_type": "execute_result",
          "data": {
            "text/plain": [
              "<keras.callbacks.History at 0x7fdee78a9b70>"
            ]
          },
          "metadata": {},
          "execution_count": 13
        }
      ]
    },
    {
      "cell_type": "code",
      "source": [
        "emotion_loss, emotion_accuracy = model.evaluate(X_test, y_emotion_test)"
      ],
      "metadata": {
        "colab": {
          "base_uri": "https://localhost:8080/"
        },
        "id": "1NgHeo0x8i3U",
        "outputId": "094f3b53-0654-41ef-af29-2e1b9c765de5"
      },
      "execution_count": null,
      "outputs": [
        {
          "output_type": "stream",
          "name": "stdout",
          "text": [
            "62/62 [==============================] - 7s 109ms/step - loss: 1.4132 - accuracy: 0.6331\n"
          ]
        }
      ]
    },
    {
      "cell_type": "code",
      "source": [
        "print('Emotion Accuracy:', emotion_accuracy)"
      ],
      "metadata": {
        "colab": {
          "base_uri": "https://localhost:8080/"
        },
        "id": "nV-uFvS78kgF",
        "outputId": "db8dbb3e-14e3-4453-f7b1-93ce7a1b797c"
      },
      "execution_count": null,
      "outputs": [
        {
          "output_type": "stream",
          "name": "stdout",
          "text": [
            "Emotion Accuracy: 0.6330788731575012\n"
          ]
        }
      ]
    },
    {
      "cell_type": "code",
      "source": [
        "model_intensity = Sequential()\n",
        "model_intensity.add(Embedding(max_words, 100, input_length=max_sequence_length))\n",
        "model_intensity.add(LSTM(128, dropout=0.2, recurrent_dropout=0.2))\n",
        "model_intensity.add(Dense(len(intensities), activation='softmax'))\n",
        "model_intensity.compile(loss='categorical_crossentropy', optimizer='adam', metrics=['accuracy'])"
      ],
      "metadata": {
        "id": "SHLt6FDm8yFO"
      },
      "execution_count": null,
      "outputs": []
    },
    {
      "cell_type": "code",
      "source": [
        "model_intensity.fit(X_train, y_intensity_train, validation_data=(X_test, y_intensity_test), epochs=2, batch_size=64)"
      ],
      "metadata": {
        "colab": {
          "base_uri": "https://localhost:8080/"
        },
        "id": "Pw6QLipz8216",
        "outputId": "b9207b0d-3b82-4213-9b7c-be74fc65137a"
      },
      "execution_count": null,
      "outputs": [
        {
          "output_type": "stream",
          "name": "stdout",
          "text": [
            "Epoch 1/2\n",
            "118/118 [==============================] - 87s 662ms/step - loss: 1.2267 - accuracy: 0.4721 - val_loss: 1.0983 - val_accuracy: 0.5335\n",
            "Epoch 2/2\n",
            "118/118 [==============================] - 60s 513ms/step - loss: 0.9567 - accuracy: 0.5933 - val_loss: 1.0362 - val_accuracy: 0.5596\n"
          ]
        },
        {
          "output_type": "execute_result",
          "data": {
            "text/plain": [
              "<keras.callbacks.History at 0x7f066d730880>"
            ]
          },
          "metadata": {},
          "execution_count": 93
        }
      ]
    },
    {
      "cell_type": "code",
      "source": [
        "intensity_loss, intensity_accuracy = model_intensity.evaluate(X_test, y_intensity_test)"
      ],
      "metadata": {
        "colab": {
          "base_uri": "https://localhost:8080/"
        },
        "id": "8jkh24gu_EfM",
        "outputId": "2f740273-0108-4df0-c3e8-39d6ddbd8225"
      },
      "execution_count": null,
      "outputs": [
        {
          "output_type": "stream",
          "name": "stdout",
          "text": [
            "59/59 [==============================] - 6s 95ms/step - loss: 1.0362 - accuracy: 0.5596\n"
          ]
        }
      ]
    },
    {
      "cell_type": "code",
      "source": [
        "print('Intensity Accuracy:', intensity_accuracy)"
      ],
      "metadata": {
        "colab": {
          "base_uri": "https://localhost:8080/"
        },
        "id": "d9tg-5NV_KHP",
        "outputId": "6c6ee16e-dfa3-4c7e-bec4-f71b5f62614f"
      },
      "execution_count": null,
      "outputs": [
        {
          "output_type": "stream",
          "name": "stdout",
          "text": [
            "Intensity Accuracy: 0.5595744848251343\n"
          ]
        }
      ]
    },
    {
      "cell_type": "code",
      "source": [
        "y_emotion_pred = model.predict(X_test)\n",
        "y_intensity_pred = model_intensity.predict(X_test)"
      ],
      "metadata": {
        "id": "HTvD-JtO_MDq"
      },
      "execution_count": null,
      "outputs": []
    },
    {
      "cell_type": "code",
      "source": [
        "emotion_report = classification_report(y_emotion_test.values.argmax(axis=1), y_emotion_pred.argmax(axis=1), target_names=emotions)\n",
        "intensity_report = classification_report(y_intensity_test.values.argmax(axis=1), y_intensity_pred.argmax(axis=1), target_names=intensities)\n"
      ],
      "metadata": {
        "id": "VoXN__eg_O_j"
      },
      "execution_count": null,
      "outputs": []
    },
    {
      "cell_type": "code",
      "source": [
        "print('Emotion Classification Report:')\n",
        "print(emotion_report)"
      ],
      "metadata": {
        "colab": {
          "base_uri": "https://localhost:8080/"
        },
        "id": "671004DL_cUl",
        "outputId": "bf81759f-1039-4242-d4f3-3271c286fab1"
      },
      "execution_count": null,
      "outputs": [
        {
          "output_type": "stream",
          "name": "stdout",
          "text": [
            "Emotion Classification Report:\n",
            "              precision    recall  f1-score   support\n",
            "\n",
            "       happy       0.59      0.39      0.47       348\n",
            "         sad       0.52      0.57      0.55       351\n",
            "       anger       0.57      0.84      0.68       117\n",
            "        fear       0.74      0.66      0.70       370\n",
            "     disgust       0.73      0.79      0.76       313\n",
            "    surprise       0.52      0.67      0.59       240\n",
            "     neutral       0.85      0.72      0.78       141\n",
            "\n",
            "    accuracy                           0.63      1880\n",
            "   macro avg       0.65      0.66      0.65      1880\n",
            "weighted avg       0.64      0.63      0.63      1880\n",
            "\n"
          ]
        }
      ]
    },
    {
      "cell_type": "code",
      "source": [
        "print('Intensity Classification Report:')\n",
        "print(intensity_report)"
      ],
      "metadata": {
        "colab": {
          "base_uri": "https://localhost:8080/"
        },
        "id": "WCrGJlDg_qtZ",
        "outputId": "43bb7cc2-a60f-425d-c9d8-ea568bddb42c"
      },
      "execution_count": null,
      "outputs": [
        {
          "output_type": "stream",
          "name": "stdout",
          "text": [
            "Intensity Classification Report:\n",
            "              precision    recall  f1-score   support\n",
            "\n",
            "        high       0.44      0.04      0.07       362\n",
            "      medium       0.43      0.33      0.38       387\n",
            "         low       0.53      0.83      0.65       818\n",
            "    negation       0.83      0.73      0.78       313\n",
            "\n",
            "    accuracy                           0.56      1880\n",
            "   macro avg       0.56      0.48      0.47      1880\n",
            "weighted avg       0.54      0.56      0.50      1880\n",
            "\n"
          ]
        }
      ]
    },
    {
      "cell_type": "markdown",
      "source": [
        "## CNN"
      ],
      "metadata": {
        "id": "CaWXnw4J_wkX"
      }
    },
    {
      "cell_type": "code",
      "source": [
        "from keras.layers import Embedding, Conv1D, GlobalMaxPooling1D, Dense\n",
        "from sklearn.metrics import classification_report"
      ],
      "metadata": {
        "id": "NYZ4J_1-AidE"
      },
      "execution_count": null,
      "outputs": []
    },
    {
      "cell_type": "code",
      "source": [
        "import numpy as np"
      ],
      "metadata": {
        "id": "5myeSCf1Azjp"
      },
      "execution_count": null,
      "outputs": []
    },
    {
      "cell_type": "code",
      "source": [
        "emotions = ['happy', 'sad', 'anger', 'fear', 'disgust', 'surprise', 'neutral']\n",
        "intensities = ['high', 'medium', 'low', 'negation']"
      ],
      "metadata": {
        "id": "GFFYY3Zf_0NN"
      },
      "execution_count": null,
      "outputs": []
    },
    {
      "cell_type": "code",
      "source": [
        "X = df['Sentence'].values\n",
        "y_emotion = df['Emotion'].values\n",
        "y_intensity = df['Intensity'].values"
      ],
      "metadata": {
        "id": "Hofb0E7uA0kJ"
      },
      "execution_count": null,
      "outputs": []
    },
    {
      "cell_type": "code",
      "source": [
        "max_words = 10000  # Maximum number of words to keep based on word frequency\n",
        "max_sequence_length = 100  # Maximum sequence length for padding"
      ],
      "metadata": {
        "id": "SAmAK_TRA4E1"
      },
      "execution_count": null,
      "outputs": []
    },
    {
      "cell_type": "code",
      "source": [
        "tokenizer = Tokenizer(num_words=max_words)\n",
        "tokenizer.fit_on_texts(X)"
      ],
      "metadata": {
        "id": "JrA42Ae5A72o"
      },
      "execution_count": null,
      "outputs": []
    },
    {
      "cell_type": "code",
      "source": [
        "X = tokenizer.texts_to_sequences(X)\n",
        "X = pad_sequences(X, maxlen=max_sequence_length)"
      ],
      "metadata": {
        "id": "wCAEKd0iCeRj"
      },
      "execution_count": null,
      "outputs": []
    },
    {
      "cell_type": "code",
      "source": [
        "y_emotion = pd.get_dummies(y_emotion, columns=emotions)\n",
        "y_intensity = pd.get_dummies(y_intensity, columns=intensities)"
      ],
      "metadata": {
        "id": "s0O75R5DA-Is"
      },
      "execution_count": null,
      "outputs": []
    },
    {
      "cell_type": "code",
      "source": [
        "X_train, X_test, y_emotion_train, y_emotion_test, y_intensity_train, y_intensity_test = train_test_split(\n",
        "    X, y_emotion, y_intensity, test_size=0.2, random_state=42)"
      ],
      "metadata": {
        "id": "hxsacSm7BAjB"
      },
      "execution_count": null,
      "outputs": []
    },
    {
      "cell_type": "code",
      "source": [
        "model_emotion = Sequential()\n",
        "model_emotion.add(Embedding(max_words, 100, input_length=max_sequence_length))\n",
        "model_emotion.add(Conv1D(128, 5, activation='relu'))\n",
        "model_emotion.add(GlobalMaxPooling1D())\n",
        "model_emotion.add(Dense(len(emotions), activation='softmax'))\n",
        "model_emotion.compile(loss='categorical_crossentropy', optimizer='adam', metrics=['accuracy'])"
      ],
      "metadata": {
        "id": "3XKKzduPBMAe"
      },
      "execution_count": null,
      "outputs": []
    },
    {
      "cell_type": "code",
      "source": [
        "model_emotion.fit(X_train, y_emotion_train, validation_data=(X_test, y_emotion_test), epochs=4, batch_size=64)"
      ],
      "metadata": {
        "colab": {
          "base_uri": "https://localhost:8080/"
        },
        "id": "gS0C2vyIBPMT",
        "outputId": "03cbff83-295b-453c-c1c7-a1075aa591ef"
      },
      "execution_count": null,
      "outputs": [
        {
          "output_type": "stream",
          "name": "stdout",
          "text": [
            "Epoch 1/4\n",
            "123/123 [==============================] - 12s 93ms/step - loss: 1.7075 - accuracy: 0.3515 - val_loss: 1.3445 - val_accuracy: 0.4936\n",
            "Epoch 2/4\n",
            "123/123 [==============================] - 11s 87ms/step - loss: 1.0330 - accuracy: 0.6367 - val_loss: 0.9826 - val_accuracy: 0.6565\n",
            "Epoch 3/4\n",
            "123/123 [==============================] - 12s 98ms/step - loss: 0.6213 - accuracy: 0.8027 - val_loss: 0.9099 - val_accuracy: 0.6758\n",
            "Epoch 4/4\n",
            "123/123 [==============================] - 12s 94ms/step - loss: 0.3677 - accuracy: 0.8945 - val_loss: 0.9376 - val_accuracy: 0.6748\n"
          ]
        },
        {
          "output_type": "execute_result",
          "data": {
            "text/plain": [
              "<keras.callbacks.History at 0x7fdee7799d20>"
            ]
          },
          "metadata": {},
          "execution_count": 32
        }
      ]
    },
    {
      "cell_type": "code",
      "source": [
        "emotion_loss, emotion_accuracy = model_emotion.evaluate(X_test, y_emotion_test)"
      ],
      "metadata": {
        "colab": {
          "base_uri": "https://localhost:8080/"
        },
        "id": "EA7G-KroE5Bc",
        "outputId": "10431485-4a1e-4d40-fd08-775a609d30e7"
      },
      "execution_count": null,
      "outputs": [
        {
          "output_type": "stream",
          "name": "stdout",
          "text": [
            "62/62 [==============================] - 1s 12ms/step - loss: 0.9376 - accuracy: 0.6748\n"
          ]
        }
      ]
    },
    {
      "cell_type": "code",
      "source": [
        "print('Emotion Accuracy:', emotion_accuracy)"
      ],
      "metadata": {
        "colab": {
          "base_uri": "https://localhost:8080/"
        },
        "id": "y9MlNcuXE6qY",
        "outputId": "bba8199d-8fa0-497a-f011-74d49b6d2f7c"
      },
      "execution_count": null,
      "outputs": [
        {
          "output_type": "stream",
          "name": "stdout",
          "text": [
            "Emotion Accuracy: 0.6748091578483582\n"
          ]
        }
      ]
    },
    {
      "cell_type": "code",
      "source": [
        "model_intensity = Sequential()\n",
        "model_intensity.add(Embedding(max_words, 100, input_length=max_sequence_length))\n",
        "model_intensity.add(Conv1D(128, 5, activation='relu'))\n",
        "model_intensity.add(GlobalMaxPooling1D())\n",
        "model_intensity.add(Dense(len(intensities), activation='softmax'))\n",
        "model_intensity.compile(loss='categorical_crossentropy', optimizer='adam', metrics=['accuracy'])"
      ],
      "metadata": {
        "id": "b91xEo1yFF2s"
      },
      "execution_count": null,
      "outputs": []
    },
    {
      "cell_type": "code",
      "source": [
        "model_intensity.fit(X_train, y_intensity_train, validation_data=(X_test, y_intensity_test), epochs=2, batch_size=64)"
      ],
      "metadata": {
        "colab": {
          "base_uri": "https://localhost:8080/"
        },
        "id": "tiUuun6GFIo-",
        "outputId": "4ec9d394-6a19-4697-b88f-be280f3fe2cb"
      },
      "execution_count": null,
      "outputs": [
        {
          "output_type": "stream",
          "name": "stdout",
          "text": [
            "Epoch 1/2\n",
            "118/118 [==============================] - 11s 92ms/step - loss: 1.2445 - accuracy: 0.4584 - val_loss: 1.1056 - val_accuracy: 0.5303\n",
            "Epoch 2/2\n",
            "118/118 [==============================] - 12s 102ms/step - loss: 0.9616 - accuracy: 0.5839 - val_loss: 1.0143 - val_accuracy: 0.5739\n"
          ]
        },
        {
          "output_type": "execute_result",
          "data": {
            "text/plain": [
              "<keras.callbacks.History at 0x7f06813497e0>"
            ]
          },
          "metadata": {},
          "execution_count": 85
        }
      ]
    },
    {
      "cell_type": "code",
      "source": [
        "intensity_loss, intensity_accuracy = model_intensity.evaluate(X_test, y_intensity_test)"
      ],
      "metadata": {
        "colab": {
          "base_uri": "https://localhost:8080/"
        },
        "id": "CUY1zeXtFw9P",
        "outputId": "035f1dff-f827-422d-eddd-4c48dafed4df"
      },
      "execution_count": null,
      "outputs": [
        {
          "output_type": "stream",
          "name": "stdout",
          "text": [
            "59/59 [==============================] - 1s 11ms/step - loss: 1.0143 - accuracy: 0.5739\n"
          ]
        }
      ]
    },
    {
      "cell_type": "code",
      "source": [
        "print('Intensity Accuracy:', intensity_accuracy)"
      ],
      "metadata": {
        "colab": {
          "base_uri": "https://localhost:8080/"
        },
        "id": "6TZrYwNkFyxQ",
        "outputId": "6e4312f0-3f88-4669-ce98-2d013d6de9c5"
      },
      "execution_count": null,
      "outputs": [
        {
          "output_type": "stream",
          "name": "stdout",
          "text": [
            "Intensity Accuracy: 0.5739361643791199\n"
          ]
        }
      ]
    },
    {
      "cell_type": "code",
      "source": [
        "y_emotion_pred = model_emotion.predict(X_test)\n",
        "\n",
        "emotion_report = classification_report(y_emotion_test.values.argmax(axis=1), y_emotion_pred.argmax(axis=1), target_names=emotions)\n",
        "\n",
        "print('Emotion Classification Report:')\n",
        "print(emotion_report)"
      ],
      "metadata": {
        "colab": {
          "base_uri": "https://localhost:8080/"
        },
        "id": "LMK9QKwuF4TW",
        "outputId": "a6f1017c-5079-4485-96d6-136147116516"
      },
      "execution_count": null,
      "outputs": [
        {
          "output_type": "stream",
          "name": "stdout",
          "text": [
            "Emotion Classification Report:\n",
            "              precision    recall  f1-score   support\n",
            "\n",
            "       happy       0.58      0.55      0.57       348\n",
            "         sad       0.58      0.60      0.59       341\n",
            "       anger       0.68      0.62      0.65       200\n",
            "        fear       0.71      0.75      0.73       351\n",
            "     disgust       0.82      0.81      0.82       325\n",
            "    surprise       0.59      0.62      0.60       244\n",
            "     neutral       0.84      0.78      0.81       156\n",
            "\n",
            "    accuracy                           0.67      1965\n",
            "   macro avg       0.69      0.68      0.68      1965\n",
            "weighted avg       0.68      0.67      0.68      1965\n",
            "\n"
          ]
        }
      ]
    },
    {
      "cell_type": "code",
      "source": [
        "y_intensity_pred = model_intensity.predict(X_test)\n",
        "intensity_report = classification_report(y_intensity_test.values.argmax(axis=1), y_intensity_pred.argmax(axis=1), target_names=intensities)\n",
        "print('Intensity Classification Report:')\n",
        "print(intensity_report)"
      ],
      "metadata": {
        "colab": {
          "base_uri": "https://localhost:8080/"
        },
        "id": "xl9_g7hCGEk-",
        "outputId": "7e85aa4c-19f6-421d-eb10-9466521cfcd6"
      },
      "execution_count": null,
      "outputs": [
        {
          "output_type": "stream",
          "name": "stdout",
          "text": [
            "Intensity Classification Report:\n",
            "              precision    recall  f1-score   support\n",
            "\n",
            "        high       0.73      0.02      0.04       362\n",
            "      medium       0.50      0.29      0.37       387\n",
            "         low       0.53      0.87      0.66       818\n",
            "    negation       0.81      0.77      0.79       313\n",
            "\n",
            "    accuracy                           0.57      1880\n",
            "   macro avg       0.64      0.49      0.47      1880\n",
            "weighted avg       0.61      0.57      0.50      1880\n",
            "\n"
          ]
        }
      ]
    },
    {
      "cell_type": "code",
      "source": [],
      "metadata": {
        "id": "TehBw03woP8L"
      },
      "execution_count": null,
      "outputs": []
    },
    {
      "cell_type": "code",
      "source": [],
      "metadata": {
        "id": "psUhup6uohlg"
      },
      "execution_count": null,
      "outputs": []
    },
    {
      "cell_type": "code",
      "source": [],
      "metadata": {
        "id": "d1BPnR-5oh_8"
      },
      "execution_count": null,
      "outputs": []
    }
  ],
  "metadata": {
    "colab": {
      "provenance": [],
      "authorship_tag": "ABX9TyMSKL1P2YcBOwCuiEGSJRMr",
      "include_colab_link": true
    },
    "kernelspec": {
      "display_name": "Python 3",
      "name": "python3"
    },
    "language_info": {
      "name": "python"
    }
  },
  "nbformat": 4,
  "nbformat_minor": 0
}