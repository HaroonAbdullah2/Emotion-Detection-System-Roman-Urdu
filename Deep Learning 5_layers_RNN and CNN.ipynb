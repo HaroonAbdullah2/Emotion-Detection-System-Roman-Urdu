{
  "nbformat": 4,
  "nbformat_minor": 0,
  "metadata": {
    "colab": {
      "provenance": [],
      "authorship_tag": "ABX9TyNDGHxgwJZnSbZRj23t2RJm",
      "include_colab_link": true
    },
    "kernelspec": {
      "name": "python3",
      "display_name": "Python 3"
    },
    "language_info": {
      "name": "python"
    }
  },
  "cells": [
    {
      "cell_type": "markdown",
      "metadata": {
        "id": "view-in-github",
        "colab_type": "text"
      },
      "source": [
        "<a href=\"https://colab.research.google.com/github/HaroonAbdullah2/Emotion-Detection-System-Roman-Urdu/blob/main/Deep%20Learning%205_layers_RNN%20and%20CNN.ipynb\" target=\"_parent\"><img src=\"https://colab.research.google.com/assets/colab-badge.svg\" alt=\"Open In Colab\"/></a>"
      ]
    },
    {
      "cell_type": "code",
      "execution_count": null,
      "metadata": {
        "id": "xXXsZbeS_HUP"
      },
      "outputs": [],
      "source": []
    },
    {
      "cell_type": "code",
      "execution_count": null,
      "metadata": {
        "colab": {
          "base_uri": "https://localhost:8080/"
        },
        "id": "uwHLDIPeptoJ",
        "outputId": "bbc669f1-af56-4cea-9986-08627108ffae"
      },
      "outputs": [
        {
          "name": "stdout",
          "output_type": "stream",
          "text": [
            "\u001b[31mERROR: Could not find a version that satisfies the requirement tensorflow==2.7.0. (from versions: 2.8.0rc0, 2.8.0rc1, 2.8.0, 2.8.1, 2.8.2, 2.8.3, 2.8.4, 2.9.0rc0, 2.9.0rc1, 2.9.0rc2, 2.9.0, 2.9.1, 2.9.2, 2.9.3, 2.10.0rc0, 2.10.0rc1, 2.10.0rc2, 2.10.0rc3, 2.10.0, 2.10.1, 2.11.0rc0, 2.11.0rc1, 2.11.0rc2, 2.11.0, 2.11.1, 2.12.0rc0, 2.12.0rc1, 2.12.0, 2.13.0rc0, 2.13.0rc1, 2.13.0rc2)\u001b[0m\u001b[31m\n",
            "\u001b[0m\u001b[31mERROR: No matching distribution found for tensorflow==2.7.0.\u001b[0m\u001b[31m\n",
            "\u001b[0m"
          ]
        }
      ],
      "source": [
        "pip install tensorflow==2.7.0."
      ]
    },
    {
      "cell_type": "code",
      "execution_count": null,
      "metadata": {
        "colab": {
          "base_uri": "https://localhost:8080/"
        },
        "id": "lh0VFhmsztR2",
        "outputId": "710c7c21-f500-4fce-96cb-73059a0bf47c"
      },
      "outputs": [
        {
          "output_type": "stream",
          "name": "stdout",
          "text": [
            "Found existing installation: tensorflow 2.12.0\n",
            "Uninstalling tensorflow-2.12.0:\n",
            "  Would remove:\n",
            "    /usr/local/bin/estimator_ckpt_converter\n",
            "    /usr/local/bin/import_pb_to_tensorboard\n",
            "    /usr/local/bin/saved_model_cli\n",
            "    /usr/local/bin/tensorboard\n",
            "    /usr/local/bin/tf_upgrade_v2\n",
            "    /usr/local/bin/tflite_convert\n",
            "    /usr/local/bin/toco\n",
            "    /usr/local/bin/toco_from_protos\n",
            "    /usr/local/lib/python3.10/dist-packages/tensorflow-2.12.0.dist-info/*\n",
            "    /usr/local/lib/python3.10/dist-packages/tensorflow/*\n",
            "Proceed (Y/n)? Y\n",
            "Y\n",
            "  Successfully uninstalled tensorflow-2.12.0\n"
          ]
        }
      ],
      "source": [
        "!pip uninstall tensorflow"
      ]
    },
    {
      "cell_type": "code",
      "execution_count": null,
      "metadata": {
        "colab": {
          "base_uri": "https://localhost:8080/"
        },
        "id": "xmJjbomg04Us",
        "outputId": "cec476ac-5039-4542-b286-67632a312bdf"
      },
      "outputs": [
        {
          "output_type": "stream",
          "name": "stdout",
          "text": [
            "Requirement already satisfied: tensorflow==2.8.0. in /usr/local/lib/python3.10/dist-packages (2.8.0)\n",
            "Requirement already satisfied: absl-py>=0.4.0 in /usr/local/lib/python3.10/dist-packages (from tensorflow==2.8.0.) (1.4.0)\n",
            "Requirement already satisfied: astunparse>=1.6.0 in /usr/local/lib/python3.10/dist-packages (from tensorflow==2.8.0.) (1.6.3)\n",
            "Requirement already satisfied: flatbuffers>=1.12 in /usr/local/lib/python3.10/dist-packages (from tensorflow==2.8.0.) (23.5.26)\n",
            "Requirement already satisfied: gast>=0.2.1 in /usr/local/lib/python3.10/dist-packages (from tensorflow==2.8.0.) (0.4.0)\n",
            "Requirement already satisfied: google-pasta>=0.1.1 in /usr/local/lib/python3.10/dist-packages (from tensorflow==2.8.0.) (0.2.0)\n",
            "Requirement already satisfied: h5py>=2.9.0 in /usr/local/lib/python3.10/dist-packages (from tensorflow==2.8.0.) (3.8.0)\n",
            "Requirement already satisfied: keras-preprocessing>=1.1.1 in /usr/local/lib/python3.10/dist-packages (from tensorflow==2.8.0.) (1.1.2)\n",
            "Requirement already satisfied: libclang>=9.0.1 in /usr/local/lib/python3.10/dist-packages (from tensorflow==2.8.0.) (16.0.0)\n",
            "Requirement already satisfied: numpy>=1.20 in /usr/local/lib/python3.10/dist-packages (from tensorflow==2.8.0.) (1.22.4)\n",
            "Requirement already satisfied: opt-einsum>=2.3.2 in /usr/local/lib/python3.10/dist-packages (from tensorflow==2.8.0.) (3.3.0)\n",
            "Requirement already satisfied: protobuf>=3.9.2 in /usr/local/lib/python3.10/dist-packages (from tensorflow==2.8.0.) (3.20.3)\n",
            "Requirement already satisfied: setuptools in /usr/local/lib/python3.10/dist-packages (from tensorflow==2.8.0.) (67.7.2)\n",
            "Requirement already satisfied: six>=1.12.0 in /usr/local/lib/python3.10/dist-packages (from tensorflow==2.8.0.) (1.16.0)\n",
            "Requirement already satisfied: termcolor>=1.1.0 in /usr/local/lib/python3.10/dist-packages (from tensorflow==2.8.0.) (2.3.0)\n",
            "Requirement already satisfied: typing-extensions>=3.6.6 in /usr/local/lib/python3.10/dist-packages (from tensorflow==2.8.0.) (4.7.1)\n",
            "Requirement already satisfied: wrapt>=1.11.0 in /usr/local/lib/python3.10/dist-packages (from tensorflow==2.8.0.) (1.14.1)\n",
            "Requirement already satisfied: tensorboard<2.9,>=2.8 in /usr/local/lib/python3.10/dist-packages (from tensorflow==2.8.0.) (2.8.0)\n",
            "Requirement already satisfied: tf-estimator-nightly==2.8.0.dev2021122109 in /usr/local/lib/python3.10/dist-packages (from tensorflow==2.8.0.) (2.8.0.dev2021122109)\n",
            "Requirement already satisfied: keras<2.9,>=2.8.0rc0 in /usr/local/lib/python3.10/dist-packages (from tensorflow==2.8.0.) (2.8.0)\n",
            "Requirement already satisfied: tensorflow-io-gcs-filesystem>=0.23.1 in /usr/local/lib/python3.10/dist-packages (from tensorflow==2.8.0.) (0.32.0)\n",
            "Requirement already satisfied: grpcio<2.0,>=1.24.3 in /usr/local/lib/python3.10/dist-packages (from tensorflow==2.8.0.) (1.56.0)\n",
            "Requirement already satisfied: wheel<1.0,>=0.23.0 in /usr/local/lib/python3.10/dist-packages (from astunparse>=1.6.0->tensorflow==2.8.0.) (0.40.0)\n",
            "Requirement already satisfied: google-auth<3,>=1.6.3 in /usr/local/lib/python3.10/dist-packages (from tensorboard<2.9,>=2.8->tensorflow==2.8.0.) (2.17.3)\n",
            "Requirement already satisfied: google-auth-oauthlib<0.5,>=0.4.1 in /usr/local/lib/python3.10/dist-packages (from tensorboard<2.9,>=2.8->tensorflow==2.8.0.) (0.4.6)\n",
            "Requirement already satisfied: markdown>=2.6.8 in /usr/local/lib/python3.10/dist-packages (from tensorboard<2.9,>=2.8->tensorflow==2.8.0.) (3.4.3)\n",
            "Requirement already satisfied: requests<3,>=2.21.0 in /usr/local/lib/python3.10/dist-packages (from tensorboard<2.9,>=2.8->tensorflow==2.8.0.) (2.27.1)\n",
            "Requirement already satisfied: tensorboard-data-server<0.7.0,>=0.6.0 in /usr/local/lib/python3.10/dist-packages (from tensorboard<2.9,>=2.8->tensorflow==2.8.0.) (0.6.1)\n",
            "Requirement already satisfied: tensorboard-plugin-wit>=1.6.0 in /usr/local/lib/python3.10/dist-packages (from tensorboard<2.9,>=2.8->tensorflow==2.8.0.) (1.8.1)\n",
            "Requirement already satisfied: werkzeug>=0.11.15 in /usr/local/lib/python3.10/dist-packages (from tensorboard<2.9,>=2.8->tensorflow==2.8.0.) (2.3.6)\n",
            "Requirement already satisfied: cachetools<6.0,>=2.0.0 in /usr/local/lib/python3.10/dist-packages (from google-auth<3,>=1.6.3->tensorboard<2.9,>=2.8->tensorflow==2.8.0.) (5.3.1)\n",
            "Requirement already satisfied: pyasn1-modules>=0.2.1 in /usr/local/lib/python3.10/dist-packages (from google-auth<3,>=1.6.3->tensorboard<2.9,>=2.8->tensorflow==2.8.0.) (0.3.0)\n",
            "Requirement already satisfied: rsa<5,>=3.1.4 in /usr/local/lib/python3.10/dist-packages (from google-auth<3,>=1.6.3->tensorboard<2.9,>=2.8->tensorflow==2.8.0.) (4.9)\n",
            "Requirement already satisfied: requests-oauthlib>=0.7.0 in /usr/local/lib/python3.10/dist-packages (from google-auth-oauthlib<0.5,>=0.4.1->tensorboard<2.9,>=2.8->tensorflow==2.8.0.) (1.3.1)\n",
            "Requirement already satisfied: urllib3<1.27,>=1.21.1 in /usr/local/lib/python3.10/dist-packages (from requests<3,>=2.21.0->tensorboard<2.9,>=2.8->tensorflow==2.8.0.) (1.26.16)\n",
            "Requirement already satisfied: certifi>=2017.4.17 in /usr/local/lib/python3.10/dist-packages (from requests<3,>=2.21.0->tensorboard<2.9,>=2.8->tensorflow==2.8.0.) (2023.5.7)\n",
            "Requirement already satisfied: charset-normalizer~=2.0.0 in /usr/local/lib/python3.10/dist-packages (from requests<3,>=2.21.0->tensorboard<2.9,>=2.8->tensorflow==2.8.0.) (2.0.12)\n",
            "Requirement already satisfied: idna<4,>=2.5 in /usr/local/lib/python3.10/dist-packages (from requests<3,>=2.21.0->tensorboard<2.9,>=2.8->tensorflow==2.8.0.) (3.4)\n",
            "Requirement already satisfied: MarkupSafe>=2.1.1 in /usr/local/lib/python3.10/dist-packages (from werkzeug>=0.11.15->tensorboard<2.9,>=2.8->tensorflow==2.8.0.) (2.1.3)\n",
            "Requirement already satisfied: pyasn1<0.6.0,>=0.4.6 in /usr/local/lib/python3.10/dist-packages (from pyasn1-modules>=0.2.1->google-auth<3,>=1.6.3->tensorboard<2.9,>=2.8->tensorflow==2.8.0.) (0.5.0)\n",
            "Requirement already satisfied: oauthlib>=3.0.0 in /usr/local/lib/python3.10/dist-packages (from requests-oauthlib>=0.7.0->google-auth-oauthlib<0.5,>=0.4.1->tensorboard<2.9,>=2.8->tensorflow==2.8.0.) (3.2.2)\n"
          ]
        }
      ],
      "source": [
        "pip install tensorflow==2.8.0."
      ]
    },
    {
      "cell_type": "markdown",
      "metadata": {
        "id": "pywCBxf7b9p4"
      },
      "source": [
        "## RNN"
      ]
    },
    {
      "cell_type": "code",
      "execution_count": null,
      "metadata": {
        "id": "vrNjjjykcD9p"
      },
      "outputs": [],
      "source": [
        "import pandas as pd\n",
        "from sklearn.model_selection import train_test_split\n",
        "from sklearn.feature_extraction.text import TfidfVectorizer\n",
        "from sklearn.linear_model import LogisticRegression\n",
        "from sklearn.metrics import accuracy_score, classification_report\n",
        "import matplotlib.pyplot as plt\n",
        "import seaborn as sns\n",
        "from sklearn.model_selection import train_test_split\n",
        "from sklearn.preprocessing import LabelEncoder\n",
        "from keras.models import Sequential\n",
        "from keras.layers import Embedding, LSTM, Dense\n",
        "from keras.preprocessing.text import Tokenizer\n",
        "from keras.preprocessing.sequence import pad_sequences\n",
        "\n"
      ]
    },
    {
      "cell_type": "code",
      "source": [
        "import numpy as np\n",
        "from keras.layers import GRU\n",
        "from keras.models import Sequential\n",
        "from keras.layers import Embedding, LSTM, Dense, Dropout\n",
        "from keras.optimizers_v1 import Adam"
      ],
      "metadata": {
        "id": "31NQQN5WMklc",
        "colab": {
          "base_uri": "https://localhost:8080/",
          "height": 339
        },
        "outputId": "29355096-e394-462e-aa62-c5f700f4c8a6"
      },
      "execution_count": null,
      "outputs": [
        {
          "output_type": "error",
          "ename": "ModuleNotFoundError",
          "evalue": "ignored",
          "traceback": [
            "\u001b[0;31m---------------------------------------------------------------------------\u001b[0m",
            "\u001b[0;31mModuleNotFoundError\u001b[0m                       Traceback (most recent call last)",
            "\u001b[0;32m<ipython-input-3-044b5ce894ab>\u001b[0m in \u001b[0;36m<cell line: 5>\u001b[0;34m()\u001b[0m\n\u001b[1;32m      3\u001b[0m \u001b[0;32mfrom\u001b[0m \u001b[0mkeras\u001b[0m\u001b[0;34m.\u001b[0m\u001b[0mmodels\u001b[0m \u001b[0;32mimport\u001b[0m \u001b[0mSequential\u001b[0m\u001b[0;34m\u001b[0m\u001b[0;34m\u001b[0m\u001b[0m\n\u001b[1;32m      4\u001b[0m \u001b[0;32mfrom\u001b[0m \u001b[0mkeras\u001b[0m\u001b[0;34m.\u001b[0m\u001b[0mlayers\u001b[0m \u001b[0;32mimport\u001b[0m \u001b[0mEmbedding\u001b[0m\u001b[0;34m,\u001b[0m \u001b[0mLSTM\u001b[0m\u001b[0;34m,\u001b[0m \u001b[0mDense\u001b[0m\u001b[0;34m,\u001b[0m \u001b[0mDropout\u001b[0m\u001b[0;34m\u001b[0m\u001b[0;34m\u001b[0m\u001b[0m\n\u001b[0;32m----> 5\u001b[0;31m \u001b[0;32mfrom\u001b[0m \u001b[0mkeras\u001b[0m\u001b[0;34m.\u001b[0m\u001b[0moptimizers_v1\u001b[0m \u001b[0;32mimport\u001b[0m \u001b[0mAdam\u001b[0m\u001b[0;34m\u001b[0m\u001b[0;34m\u001b[0m\u001b[0m\n\u001b[0m",
            "\u001b[0;31mModuleNotFoundError\u001b[0m: No module named 'keras.optimizers_v1'",
            "",
            "\u001b[0;31m---------------------------------------------------------------------------\u001b[0;32m\nNOTE: If your import is failing due to a missing package, you can\nmanually install dependencies using either !pip or !apt.\n\nTo view examples of installing some common dependencies, click the\n\"Open Examples\" button below.\n\u001b[0;31m---------------------------------------------------------------------------\u001b[0m\n"
          ],
          "errorDetails": {
            "actions": [
              {
                "action": "open_url",
                "actionText": "Open Examples",
                "url": "/notebooks/snippets/importing_libraries.ipynb"
              }
            ]
          }
        }
      ]
    },
    {
      "cell_type": "code",
      "source": [],
      "metadata": {
        "id": "2taJBAGhoIqT"
      },
      "execution_count": null,
      "outputs": []
    },
    {
      "cell_type": "code",
      "source": [
        "pip install Adam"
      ],
      "metadata": {
        "colab": {
          "base_uri": "https://localhost:8080/"
        },
        "id": "asCnb5WBoBt2",
        "outputId": "2b3f40a3-67ff-49d7-9eb3-2f9a7677c494"
      },
      "execution_count": null,
      "outputs": [
        {
          "output_type": "stream",
          "name": "stdout",
          "text": [
            "Collecting Adam\n",
            "  Downloading adam-0.0.0.dev0-py2.py3-none-any.whl (2.6 kB)\n",
            "Installing collected packages: Adam\n",
            "Successfully installed Adam-0.0.0.dev0\n"
          ]
        }
      ]
    },
    {
      "cell_type": "code",
      "execution_count": null,
      "metadata": {
        "id": "uhTkub_yqO9-"
      },
      "outputs": [],
      "source": [
        "df = pd.read_excel('/content/Updated_preprocessed_Dataset_11th_July_Tuesday.xlsx')"
      ]
    },
    {
      "cell_type": "code",
      "source": [
        "df[\"Emotion\"].unique()"
      ],
      "metadata": {
        "colab": {
          "base_uri": "https://localhost:8080/"
        },
        "id": "iUAkPtf3M63Y",
        "outputId": "aae35fde-bc83-4b90-8a66-68084833316f"
      },
      "execution_count": null,
      "outputs": [
        {
          "output_type": "execute_result",
          "data": {
            "text/plain": [
              "array(['happy', 'sad', 'anger', 'surprise', 'disgust', 'neutral', 'fear'],\n",
              "      dtype=object)"
            ]
          },
          "metadata": {},
          "execution_count": 31
        }
      ]
    },
    {
      "cell_type": "code",
      "source": [
        "df[\"Emotion\"] = df[\"Emotion\"].replace({\"Fear\": \"fear\"})"
      ],
      "metadata": {
        "id": "n_WWtl-DM-XH"
      },
      "execution_count": null,
      "outputs": []
    },
    {
      "cell_type": "code",
      "source": [
        "df[\"Emotion\"].unique()"
      ],
      "metadata": {
        "colab": {
          "base_uri": "https://localhost:8080/"
        },
        "id": "cs16BtzGwl1Z",
        "outputId": "08cf5236-e745-43e7-99ae-96f22ffc2e55"
      },
      "execution_count": null,
      "outputs": [
        {
          "output_type": "execute_result",
          "data": {
            "text/plain": [
              "array(['happy', 'sad', 'anger', 'surprise', 'disgust', 'neutral', 'fear'],\n",
              "      dtype=object)"
            ]
          },
          "metadata": {},
          "execution_count": 98
        }
      ]
    },
    {
      "cell_type": "code",
      "source": [
        "df[\"Intensity\"].unique()"
      ],
      "metadata": {
        "colab": {
          "base_uri": "https://localhost:8080/"
        },
        "id": "7v-5M_WCNCU3",
        "outputId": "3d037e5c-252f-4467-f05a-7e36e147f702"
      },
      "execution_count": null,
      "outputs": [
        {
          "output_type": "execute_result",
          "data": {
            "text/plain": [
              "array(['medium', 'low', 'high', 'negation', nan], dtype=object)"
            ]
          },
          "metadata": {},
          "execution_count": 99
        }
      ]
    },
    {
      "cell_type": "code",
      "source": [
        "emotions = ['happy', 'sad', 'anger', 'fear', 'disgust', 'surprise', 'neutral']\n",
        "intensities = ['high', 'medium', 'low', 'negation']"
      ],
      "metadata": {
        "id": "DBM4C1sB59Jf"
      },
      "execution_count": null,
      "outputs": []
    },
    {
      "cell_type": "code",
      "source": [
        "X = df['Sentence'].values\n",
        "y_emotion = df['Emotion'].values\n",
        "y_intensity = df['Intensity'].values\n"
      ],
      "metadata": {
        "id": "x0-1fdPS6DbG"
      },
      "execution_count": null,
      "outputs": []
    },
    {
      "cell_type": "code",
      "source": [
        "max_words = 100000\n",
        "max_sequence_length = 300"
      ],
      "metadata": {
        "id": "Abw9odB96Gs3"
      },
      "execution_count": null,
      "outputs": []
    },
    {
      "cell_type": "code",
      "source": [
        "tokenizer = Tokenizer(num_words=max_words)\n",
        "tokenizer.fit_on_texts(X)"
      ],
      "metadata": {
        "id": "u1IKDdSC6KkP"
      },
      "execution_count": null,
      "outputs": []
    },
    {
      "cell_type": "code",
      "source": [
        "X = tokenizer.texts_to_sequences(X)\n",
        "X = pad_sequences(X, maxlen=max_sequence_length)"
      ],
      "metadata": {
        "id": "dHA9B0Nh6M-P"
      },
      "execution_count": null,
      "outputs": []
    },
    {
      "cell_type": "code",
      "source": [
        "y_emotion = pd.get_dummies(y_emotion, columns=emotions)\n",
        "y_intensity = pd.get_dummies(y_intensity, columns=intensities)"
      ],
      "metadata": {
        "id": "GYdFno4ghRdA"
      },
      "execution_count": null,
      "outputs": []
    },
    {
      "cell_type": "code",
      "source": [
        "X_train, X_test, y_emotion_train, y_emotion_test, y_intensity_train, y_intensity_test = train_test_split(\n",
        "    X, y_emotion, y_intensity, test_size=0.2, random_state=42)\n"
      ],
      "metadata": {
        "id": "LATKepxO6TCx"
      },
      "execution_count": null,
      "outputs": []
    },
    {
      "cell_type": "code",
      "source": [
        "\n",
        "activation_function = 'adam'\n",
        "batch_size = 32\n",
        "dropout_rate = 0.5\n",
        "learning_rate = 0.001"
      ],
      "metadata": {
        "id": "Q43rIXvKmn0c"
      },
      "execution_count": null,
      "outputs": []
    },
    {
      "cell_type": "code",
      "source": [
        "model = Sequential()\n",
        "model.add(Embedding(max_words, 300, input_length=max_sequence_length))\n",
        "model.add(LSTM(128, dropout=0.5, recurrent_dropout=0.5))\n",
        "model.add(Dense(len(emotions), activation='softmax'))\n",
        "model.compile(loss='categorical_crossentropy', optimizer='adam', metrics=['accuracy'])"
      ],
      "metadata": {
        "id": "u7qtEmOVoptj"
      },
      "execution_count": null,
      "outputs": []
    },
    {
      "cell_type": "code",
      "source": [
        "model_emotion = Sequential()\n",
        "model_emotion.add(Embedding(max_words, embedding_size, input_length=max_sequence_length))\n",
        "model_emotion.add(LSTM(128, dropout=dropout_rate, recurrent_dropout=dropout_rate, return_sequences=True))\n",
        "model_emotion.add(LSTM(128, dropout=dropout_rate, recurrent_dropout=dropout_rate, return_sequences=True))\n",
        "model_emotion.add(LSTM(128, dropout=dropout_rate, recurrent_dropout=dropout_rate, return_sequences=True))\n",
        "model_emotion.add(LSTM(128, dropout=dropout_rate, recurrent_dropout=dropout_rate))\n",
        "model_emotion.add(Dense(len(emotions), activation='softmax'))"
      ],
      "metadata": {
        "id": "RuwLi3OcmoiX"
      },
      "execution_count": null,
      "outputs": []
    },
    {
      "cell_type": "code",
      "source": [
        "optimizer = Adam(learning_rate=learning_rate)\n",
        "model_emotion.compile(loss='categorical_crossentropy', optimizer=optimizer, metrics=['accuracy'])"
      ],
      "metadata": {
        "colab": {
          "base_uri": "https://localhost:8080/",
          "height": 182
        },
        "id": "DpBNLYeonTmM",
        "outputId": "22f2a990-e6bd-4698-a244-0d096d0a6c49"
      },
      "execution_count": null,
      "outputs": [
        {
          "output_type": "error",
          "ename": "NameError",
          "evalue": "ignored",
          "traceback": [
            "\u001b[0;31m---------------------------------------------------------------------------\u001b[0m",
            "\u001b[0;31mNameError\u001b[0m                                 Traceback (most recent call last)",
            "\u001b[0;32m<ipython-input-50-cd4b404b85dd>\u001b[0m in \u001b[0;36m<cell line: 1>\u001b[0;34m()\u001b[0m\n\u001b[0;32m----> 1\u001b[0;31m \u001b[0moptimizer\u001b[0m \u001b[0;34m=\u001b[0m \u001b[0mAdam\u001b[0m\u001b[0;34m(\u001b[0m\u001b[0mlearning_rate\u001b[0m\u001b[0;34m=\u001b[0m\u001b[0mlearning_rate\u001b[0m\u001b[0;34m)\u001b[0m\u001b[0;34m\u001b[0m\u001b[0;34m\u001b[0m\u001b[0m\n\u001b[0m\u001b[1;32m      2\u001b[0m \u001b[0mmodel_emotion\u001b[0m\u001b[0;34m.\u001b[0m\u001b[0mcompile\u001b[0m\u001b[0;34m(\u001b[0m\u001b[0mloss\u001b[0m\u001b[0;34m=\u001b[0m\u001b[0;34m'categorical_crossentropy'\u001b[0m\u001b[0;34m,\u001b[0m \u001b[0moptimizer\u001b[0m\u001b[0;34m=\u001b[0m\u001b[0moptimizer\u001b[0m\u001b[0;34m,\u001b[0m \u001b[0mmetrics\u001b[0m\u001b[0;34m=\u001b[0m\u001b[0;34m[\u001b[0m\u001b[0;34m'accuracy'\u001b[0m\u001b[0;34m]\u001b[0m\u001b[0;34m)\u001b[0m\u001b[0;34m\u001b[0m\u001b[0;34m\u001b[0m\u001b[0m\n",
            "\u001b[0;31mNameError\u001b[0m: name 'Adam' is not defined"
          ]
        }
      ]
    },
    {
      "cell_type": "code",
      "source": [],
      "metadata": {
        "id": "UpOycN3ZnTtZ"
      },
      "execution_count": null,
      "outputs": []
    },
    {
      "cell_type": "code",
      "source": [
        "model.fit(X_train, y_emotion_train, validation_data=(X_test, y_emotion_test), epochs=10, batch_size=64)"
      ],
      "metadata": {
        "colab": {
          "base_uri": "https://localhost:8080/",
          "height": 165
        },
        "id": "-aKSBLjv6Y1i",
        "outputId": "6ebc18e4-a748-43b8-e20e-1c1475bb1c8e"
      },
      "execution_count": null,
      "outputs": [
        {
          "output_type": "error",
          "ename": "NameError",
          "evalue": "ignored",
          "traceback": [
            "\u001b[0;31m---------------------------------------------------------------------------\u001b[0m",
            "\u001b[0;31mNameError\u001b[0m                                 Traceback (most recent call last)",
            "\u001b[0;32m<ipython-input-49-e72d7dcfab37>\u001b[0m in \u001b[0;36m<cell line: 1>\u001b[0;34m()\u001b[0m\n\u001b[0;32m----> 1\u001b[0;31m \u001b[0mmodel\u001b[0m\u001b[0;34m.\u001b[0m\u001b[0mfit\u001b[0m\u001b[0;34m(\u001b[0m\u001b[0mX_train\u001b[0m\u001b[0;34m,\u001b[0m \u001b[0my_emotion_train\u001b[0m\u001b[0;34m,\u001b[0m \u001b[0mvalidation_data\u001b[0m\u001b[0;34m=\u001b[0m\u001b[0;34m(\u001b[0m\u001b[0mX_test\u001b[0m\u001b[0;34m,\u001b[0m \u001b[0my_emotion_test\u001b[0m\u001b[0;34m)\u001b[0m\u001b[0;34m,\u001b[0m \u001b[0mepochs\u001b[0m\u001b[0;34m=\u001b[0m\u001b[0;36m10\u001b[0m\u001b[0;34m,\u001b[0m \u001b[0mbatch_size\u001b[0m\u001b[0;34m=\u001b[0m\u001b[0;36m64\u001b[0m\u001b[0;34m)\u001b[0m\u001b[0;34m\u001b[0m\u001b[0;34m\u001b[0m\u001b[0m\n\u001b[0m",
            "\u001b[0;31mNameError\u001b[0m: name 'model' is not defined"
          ]
        }
      ]
    },
    {
      "cell_type": "code",
      "source": [
        "emotion_loss, emotion_accuracy = model.evaluate(X_test, y_emotion_test)"
      ],
      "metadata": {
        "colab": {
          "base_uri": "https://localhost:8080/"
        },
        "id": "1NgHeo0x8i3U",
        "outputId": "049d2fc1-44bd-43f2-da2e-a9aead3cceb2"
      },
      "execution_count": null,
      "outputs": [
        {
          "output_type": "stream",
          "name": "stdout",
          "text": [
            "62/62 [==============================] - 5s 84ms/step - loss: 1.7729 - accuracy: 0.6142\n"
          ]
        }
      ]
    },
    {
      "cell_type": "code",
      "source": [
        "print('Emotion Accuracy:', emotion_accuracy)"
      ],
      "metadata": {
        "colab": {
          "base_uri": "https://localhost:8080/"
        },
        "id": "nV-uFvS78kgF",
        "outputId": "eb9f368e-1b77-4f8a-c264-4f0dd29df2fc"
      },
      "execution_count": null,
      "outputs": [
        {
          "output_type": "stream",
          "name": "stdout",
          "text": [
            "Emotion Accuracy: 0.6142493486404419\n"
          ]
        }
      ]
    },
    {
      "cell_type": "code",
      "source": [
        "model_intensity = Sequential()\n",
        "model_intensity.add(Embedding(max_words, 100, input_length=max_sequence_length))\n",
        "model_intensity.add(LSTM(128, dropout=0.2, recurrent_dropout=0.2))\n",
        "model_intensity.add(Dense(len(intensities), activation='softmax'))\n",
        "model_intensity.compile(loss='categorical_crossentropy', optimizer='adam', metrics=['accuracy'])"
      ],
      "metadata": {
        "id": "SHLt6FDm8yFO"
      },
      "execution_count": null,
      "outputs": []
    },
    {
      "cell_type": "code",
      "source": [
        "model_intensity.fit(X_train, y_intensity_train, validation_data=(X_test, y_intensity_test), epochs=2, batch_size=64)"
      ],
      "metadata": {
        "colab": {
          "base_uri": "https://localhost:8080/"
        },
        "id": "Pw6QLipz8216",
        "outputId": "b9207b0d-3b82-4213-9b7c-be74fc65137a"
      },
      "execution_count": null,
      "outputs": [
        {
          "output_type": "stream",
          "name": "stdout",
          "text": [
            "Epoch 1/2\n",
            "118/118 [==============================] - 87s 662ms/step - loss: 1.2267 - accuracy: 0.4721 - val_loss: 1.0983 - val_accuracy: 0.5335\n",
            "Epoch 2/2\n",
            "118/118 [==============================] - 60s 513ms/step - loss: 0.9567 - accuracy: 0.5933 - val_loss: 1.0362 - val_accuracy: 0.5596\n"
          ]
        },
        {
          "output_type": "execute_result",
          "data": {
            "text/plain": [
              "<keras.callbacks.History at 0x7f066d730880>"
            ]
          },
          "metadata": {},
          "execution_count": 93
        }
      ]
    },
    {
      "cell_type": "code",
      "source": [
        "intensity_loss, intensity_accuracy = model_intensity.evaluate(X_test, y_intensity_test)"
      ],
      "metadata": {
        "colab": {
          "base_uri": "https://localhost:8080/"
        },
        "id": "8jkh24gu_EfM",
        "outputId": "2f740273-0108-4df0-c3e8-39d6ddbd8225"
      },
      "execution_count": null,
      "outputs": [
        {
          "output_type": "stream",
          "name": "stdout",
          "text": [
            "59/59 [==============================] - 6s 95ms/step - loss: 1.0362 - accuracy: 0.5596\n"
          ]
        }
      ]
    },
    {
      "cell_type": "code",
      "source": [
        "print('Intensity Accuracy:', intensity_accuracy)"
      ],
      "metadata": {
        "colab": {
          "base_uri": "https://localhost:8080/"
        },
        "id": "d9tg-5NV_KHP",
        "outputId": "6c6ee16e-dfa3-4c7e-bec4-f71b5f62614f"
      },
      "execution_count": null,
      "outputs": [
        {
          "output_type": "stream",
          "name": "stdout",
          "text": [
            "Intensity Accuracy: 0.5595744848251343\n"
          ]
        }
      ]
    },
    {
      "cell_type": "code",
      "source": [
        "y_emotion_pred = model.predict(X_test)\n",
        "y_intensity_pred = model_intensity.predict(X_test)"
      ],
      "metadata": {
        "id": "HTvD-JtO_MDq"
      },
      "execution_count": null,
      "outputs": []
    },
    {
      "cell_type": "code",
      "source": [
        "emotion_report = classification_report(y_emotion_test.values.argmax(axis=1), y_emotion_pred.argmax(axis=1), target_names=emotions)\n",
        "intensity_report = classification_report(y_intensity_test.values.argmax(axis=1), y_intensity_pred.argmax(axis=1), target_names=intensities)\n"
      ],
      "metadata": {
        "id": "VoXN__eg_O_j"
      },
      "execution_count": null,
      "outputs": []
    },
    {
      "cell_type": "code",
      "source": [
        "print('Emotion Classification Report:')\n",
        "print(emotion_report)"
      ],
      "metadata": {
        "colab": {
          "base_uri": "https://localhost:8080/"
        },
        "id": "671004DL_cUl",
        "outputId": "bf81759f-1039-4242-d4f3-3271c286fab1"
      },
      "execution_count": null,
      "outputs": [
        {
          "output_type": "stream",
          "name": "stdout",
          "text": [
            "Emotion Classification Report:\n",
            "              precision    recall  f1-score   support\n",
            "\n",
            "       happy       0.59      0.39      0.47       348\n",
            "         sad       0.52      0.57      0.55       351\n",
            "       anger       0.57      0.84      0.68       117\n",
            "        fear       0.74      0.66      0.70       370\n",
            "     disgust       0.73      0.79      0.76       313\n",
            "    surprise       0.52      0.67      0.59       240\n",
            "     neutral       0.85      0.72      0.78       141\n",
            "\n",
            "    accuracy                           0.63      1880\n",
            "   macro avg       0.65      0.66      0.65      1880\n",
            "weighted avg       0.64      0.63      0.63      1880\n",
            "\n"
          ]
        }
      ]
    },
    {
      "cell_type": "code",
      "source": [
        "print('Intensity Classification Report:')\n",
        "print(intensity_report)"
      ],
      "metadata": {
        "colab": {
          "base_uri": "https://localhost:8080/"
        },
        "id": "WCrGJlDg_qtZ",
        "outputId": "43bb7cc2-a60f-425d-c9d8-ea568bddb42c"
      },
      "execution_count": null,
      "outputs": [
        {
          "output_type": "stream",
          "name": "stdout",
          "text": [
            "Intensity Classification Report:\n",
            "              precision    recall  f1-score   support\n",
            "\n",
            "        high       0.44      0.04      0.07       362\n",
            "      medium       0.43      0.33      0.38       387\n",
            "         low       0.53      0.83      0.65       818\n",
            "    negation       0.83      0.73      0.78       313\n",
            "\n",
            "    accuracy                           0.56      1880\n",
            "   macro avg       0.56      0.48      0.47      1880\n",
            "weighted avg       0.54      0.56      0.50      1880\n",
            "\n"
          ]
        }
      ]
    },
    {
      "cell_type": "markdown",
      "source": [
        "## CNN"
      ],
      "metadata": {
        "id": "CaWXnw4J_wkX"
      }
    },
    {
      "cell_type": "code",
      "source": [
        "from keras.layers import Embedding, Conv1D, GlobalMaxPooling1D, Dense, Conv2D\n",
        "from sklearn.metrics import classification_report"
      ],
      "metadata": {
        "id": "NYZ4J_1-AidE"
      },
      "execution_count": null,
      "outputs": []
    },
    {
      "cell_type": "code",
      "source": [
        "import numpy as np"
      ],
      "metadata": {
        "id": "5myeSCf1Azjp"
      },
      "execution_count": null,
      "outputs": []
    },
    {
      "cell_type": "code",
      "source": [
        "emotions = ['happy', 'sad', 'anger', 'fear', 'disgust', 'surprise', 'neutral']\n",
        "intensities = ['high', 'medium', 'low', 'negation']"
      ],
      "metadata": {
        "id": "GFFYY3Zf_0NN"
      },
      "execution_count": null,
      "outputs": []
    },
    {
      "cell_type": "code",
      "source": [
        "X = df['Sentence'].values\n",
        "y_emotion = df['Emotion'].values\n",
        "y_intensity = df['Intensity'].values"
      ],
      "metadata": {
        "id": "Hofb0E7uA0kJ"
      },
      "execution_count": null,
      "outputs": []
    },
    {
      "cell_type": "code",
      "source": [
        "max_words = 10000  # Maximum number of words to keep based on word frequency\n",
        "max_sequence_length = 100  # Maximum sequence length for padding"
      ],
      "metadata": {
        "id": "SAmAK_TRA4E1"
      },
      "execution_count": null,
      "outputs": []
    },
    {
      "cell_type": "code",
      "source": [
        "tokenizer = Tokenizer(num_words=max_words)\n",
        "tokenizer.fit_on_texts(X)"
      ],
      "metadata": {
        "id": "JrA42Ae5A72o"
      },
      "execution_count": null,
      "outputs": []
    },
    {
      "cell_type": "code",
      "source": [
        "X = tokenizer.texts_to_sequences(X)\n",
        "X = pad_sequences(X, maxlen=max_sequence_length)"
      ],
      "metadata": {
        "id": "wCAEKd0iCeRj"
      },
      "execution_count": null,
      "outputs": []
    },
    {
      "cell_type": "code",
      "source": [
        "y_emotion = pd.get_dummies(y_emotion, columns=emotions)\n",
        "y_intensity = pd.get_dummies(y_intensity, columns=intensities)"
      ],
      "metadata": {
        "id": "s0O75R5DA-Is"
      },
      "execution_count": null,
      "outputs": []
    },
    {
      "cell_type": "code",
      "source": [
        "X_train, X_test, y_emotion_train, y_emotion_test, y_intensity_train, y_intensity_test = train_test_split(\n",
        "    X, y_emotion, y_intensity, test_size=0.2, random_state=42)"
      ],
      "metadata": {
        "id": "hxsacSm7BAjB"
      },
      "execution_count": null,
      "outputs": []
    },
    {
      "cell_type": "code",
      "source": [
        "model_emotion = Sequential()\n",
        "model_emotion.add(Embedding(max_words, 100, input_length=max_sequence_length))\n",
        "model_emotion.add(Conv1D(128, 5, activation='relu'))\n",
        "model_emotion.add(GlobalMaxPooling1D())\n",
        "model_emotion.add(Dense(128, activation='relu'))  # Additional Dense layer\n",
        "model_emotion.add(Dense(len(emotions), activation='softmax'))\n",
        "model_emotion.compile(loss='categorical_crossentropy', optimizer='adam', metrics=['accuracy'])"
      ],
      "metadata": {
        "id": "3XKKzduPBMAe"
      },
      "execution_count": null,
      "outputs": []
    },
    {
      "cell_type": "code",
      "source": [
        "model_emotion.fit(X_train, y_emotion_train, validation_data=(X_test, y_emotion_test), epochs=10, batch_size=64)"
      ],
      "metadata": {
        "colab": {
          "base_uri": "https://localhost:8080/"
        },
        "id": "gS0C2vyIBPMT",
        "outputId": "2ac0ac41-ff54-4153-e76a-40e86f046e29"
      },
      "execution_count": null,
      "outputs": [
        {
          "output_type": "stream",
          "name": "stdout",
          "text": [
            "Epoch 1/10\n",
            "123/123 [==============================] - 10s 77ms/step - loss: 1.6676 - accuracy: 0.3521 - val_loss: 1.2098 - val_accuracy: 0.5496\n",
            "Epoch 2/10\n",
            "123/123 [==============================] - 12s 97ms/step - loss: 0.9066 - accuracy: 0.6698 - val_loss: 0.9350 - val_accuracy: 0.6641\n",
            "Epoch 3/10\n",
            "123/123 [==============================] - 12s 97ms/step - loss: 0.4781 - accuracy: 0.8462 - val_loss: 0.9769 - val_accuracy: 0.6656\n",
            "Epoch 4/10\n",
            "123/123 [==============================] - 9s 76ms/step - loss: 0.2454 - accuracy: 0.9278 - val_loss: 1.0967 - val_accuracy: 0.6606\n",
            "Epoch 5/10\n",
            "123/123 [==============================] - 12s 96ms/step - loss: 0.1461 - accuracy: 0.9580 - val_loss: 1.2065 - val_accuracy: 0.6656\n",
            "Epoch 6/10\n",
            "123/123 [==============================] - 12s 97ms/step - loss: 0.1124 - accuracy: 0.9658 - val_loss: 1.2726 - val_accuracy: 0.6550\n",
            "Epoch 7/10\n",
            "123/123 [==============================] - 10s 84ms/step - loss: 0.1012 - accuracy: 0.9678 - val_loss: 1.3302 - val_accuracy: 0.6611\n",
            "Epoch 8/10\n",
            "123/123 [==============================] - 11s 91ms/step - loss: 0.0914 - accuracy: 0.9663 - val_loss: 1.3510 - val_accuracy: 0.6565\n",
            "Epoch 9/10\n",
            "123/123 [==============================] - 12s 97ms/step - loss: 0.0859 - accuracy: 0.9683 - val_loss: 1.3762 - val_accuracy: 0.6514\n",
            "Epoch 10/10\n",
            "123/123 [==============================] - 10s 81ms/step - loss: 0.0820 - accuracy: 0.9673 - val_loss: 1.4055 - val_accuracy: 0.6427\n"
          ]
        },
        {
          "output_type": "execute_result",
          "data": {
            "text/plain": [
              "<keras.callbacks.History at 0x7de774df35e0>"
            ]
          },
          "metadata": {},
          "execution_count": 27
        }
      ]
    },
    {
      "cell_type": "code",
      "source": [
        "emotion_loss, emotion_accuracy = model_emotion.evaluate(X_test, y_emotion_test)"
      ],
      "metadata": {
        "colab": {
          "base_uri": "https://localhost:8080/"
        },
        "id": "EA7G-KroE5Bc",
        "outputId": "10431485-4a1e-4d40-fd08-775a609d30e7"
      },
      "execution_count": null,
      "outputs": [
        {
          "output_type": "stream",
          "name": "stdout",
          "text": [
            "62/62 [==============================] - 1s 12ms/step - loss: 0.9376 - accuracy: 0.6748\n"
          ]
        }
      ]
    },
    {
      "cell_type": "code",
      "source": [
        "print('Emotion Accuracy:', emotion_accuracy)"
      ],
      "metadata": {
        "colab": {
          "base_uri": "https://localhost:8080/"
        },
        "id": "y9MlNcuXE6qY",
        "outputId": "bba8199d-8fa0-497a-f011-74d49b6d2f7c"
      },
      "execution_count": null,
      "outputs": [
        {
          "output_type": "stream",
          "name": "stdout",
          "text": [
            "Emotion Accuracy: 0.6748091578483582\n"
          ]
        }
      ]
    },
    {
      "cell_type": "code",
      "source": [
        "model_intensity = Sequential()\n",
        "model_intensity.add(Embedding(max_words, 100, input_length=max_sequence_length))\n",
        "model_intensity.add(Conv1D(128, 5, activation='relu'))\n",
        "model_intensity.add(GlobalMaxPooling1D())\n",
        "model_intensity.add(Dense(len(intensities), activation='softmax'))\n",
        "model_intensity.compile(loss='categorical_crossentropy', optimizer='adam', metrics=['accuracy'])"
      ],
      "metadata": {
        "id": "b91xEo1yFF2s"
      },
      "execution_count": null,
      "outputs": []
    },
    {
      "cell_type": "code",
      "source": [
        "model_intensity.fit(X_train, y_intensity_train, validation_data=(X_test, y_intensity_test), epochs=2, batch_size=64)"
      ],
      "metadata": {
        "colab": {
          "base_uri": "https://localhost:8080/"
        },
        "id": "tiUuun6GFIo-",
        "outputId": "4ec9d394-6a19-4697-b88f-be280f3fe2cb"
      },
      "execution_count": null,
      "outputs": [
        {
          "output_type": "stream",
          "name": "stdout",
          "text": [
            "Epoch 1/2\n",
            "118/118 [==============================] - 11s 92ms/step - loss: 1.2445 - accuracy: 0.4584 - val_loss: 1.1056 - val_accuracy: 0.5303\n",
            "Epoch 2/2\n",
            "118/118 [==============================] - 12s 102ms/step - loss: 0.9616 - accuracy: 0.5839 - val_loss: 1.0143 - val_accuracy: 0.5739\n"
          ]
        },
        {
          "output_type": "execute_result",
          "data": {
            "text/plain": [
              "<keras.callbacks.History at 0x7f06813497e0>"
            ]
          },
          "metadata": {},
          "execution_count": 85
        }
      ]
    },
    {
      "cell_type": "code",
      "source": [
        "intensity_loss, intensity_accuracy = model_intensity.evaluate(X_test, y_intensity_test)"
      ],
      "metadata": {
        "colab": {
          "base_uri": "https://localhost:8080/"
        },
        "id": "CUY1zeXtFw9P",
        "outputId": "035f1dff-f827-422d-eddd-4c48dafed4df"
      },
      "execution_count": null,
      "outputs": [
        {
          "output_type": "stream",
          "name": "stdout",
          "text": [
            "59/59 [==============================] - 1s 11ms/step - loss: 1.0143 - accuracy: 0.5739\n"
          ]
        }
      ]
    },
    {
      "cell_type": "code",
      "source": [
        "print('Intensity Accuracy:', intensity_accuracy)"
      ],
      "metadata": {
        "colab": {
          "base_uri": "https://localhost:8080/"
        },
        "id": "6TZrYwNkFyxQ",
        "outputId": "6e4312f0-3f88-4669-ce98-2d013d6de9c5"
      },
      "execution_count": null,
      "outputs": [
        {
          "output_type": "stream",
          "name": "stdout",
          "text": [
            "Intensity Accuracy: 0.5739361643791199\n"
          ]
        }
      ]
    },
    {
      "cell_type": "code",
      "source": [
        "y_emotion_pred = model_emotion.predict(X_test)\n",
        "\n",
        "emotion_report = classification_report(y_emotion_test.values.argmax(axis=1), y_emotion_pred.argmax(axis=1), target_names=emotions)\n",
        "\n",
        "print('Emotion Classification Report:')\n",
        "print(emotion_report)"
      ],
      "metadata": {
        "colab": {
          "base_uri": "https://localhost:8080/"
        },
        "id": "LMK9QKwuF4TW",
        "outputId": "a6f1017c-5079-4485-96d6-136147116516"
      },
      "execution_count": null,
      "outputs": [
        {
          "output_type": "stream",
          "name": "stdout",
          "text": [
            "Emotion Classification Report:\n",
            "              precision    recall  f1-score   support\n",
            "\n",
            "       happy       0.58      0.55      0.57       348\n",
            "         sad       0.58      0.60      0.59       341\n",
            "       anger       0.68      0.62      0.65       200\n",
            "        fear       0.71      0.75      0.73       351\n",
            "     disgust       0.82      0.81      0.82       325\n",
            "    surprise       0.59      0.62      0.60       244\n",
            "     neutral       0.84      0.78      0.81       156\n",
            "\n",
            "    accuracy                           0.67      1965\n",
            "   macro avg       0.69      0.68      0.68      1965\n",
            "weighted avg       0.68      0.67      0.68      1965\n",
            "\n"
          ]
        }
      ]
    },
    {
      "cell_type": "code",
      "source": [
        "y_intensity_pred = model_intensity.predict(X_test)\n",
        "intensity_report = classification_report(y_intensity_test.values.argmax(axis=1), y_intensity_pred.argmax(axis=1), target_names=intensities)\n",
        "print('Intensity Classification Report:')\n",
        "print(intensity_report)"
      ],
      "metadata": {
        "colab": {
          "base_uri": "https://localhost:8080/"
        },
        "id": "xl9_g7hCGEk-",
        "outputId": "7e85aa4c-19f6-421d-eb10-9466521cfcd6"
      },
      "execution_count": null,
      "outputs": [
        {
          "output_type": "stream",
          "name": "stdout",
          "text": [
            "Intensity Classification Report:\n",
            "              precision    recall  f1-score   support\n",
            "\n",
            "        high       0.73      0.02      0.04       362\n",
            "      medium       0.50      0.29      0.37       387\n",
            "         low       0.53      0.87      0.66       818\n",
            "    negation       0.81      0.77      0.79       313\n",
            "\n",
            "    accuracy                           0.57      1880\n",
            "   macro avg       0.64      0.49      0.47      1880\n",
            "weighted avg       0.61      0.57      0.50      1880\n",
            "\n"
          ]
        }
      ]
    },
    {
      "cell_type": "code",
      "source": [],
      "metadata": {
        "id": "TehBw03woP8L"
      },
      "execution_count": null,
      "outputs": []
    },
    {
      "cell_type": "code",
      "source": [],
      "metadata": {
        "id": "psUhup6uohlg"
      },
      "execution_count": null,
      "outputs": []
    },
    {
      "cell_type": "code",
      "source": [],
      "metadata": {
        "id": "d1BPnR-5oh_8"
      },
      "execution_count": null,
      "outputs": []
    }
  ]
}